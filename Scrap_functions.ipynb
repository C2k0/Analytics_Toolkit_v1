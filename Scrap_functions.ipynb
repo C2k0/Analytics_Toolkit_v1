{
 "cells": [
  {
   "cell_type": "code",
   "execution_count": null,
   "metadata": {},
   "outputs": [],
   "source": []
  },
  {
   "cell_type": "code",
   "execution_count": null,
   "metadata": {},
   "outputs": [],
   "source": [
    "import os\n",
    "\n",
    "def read_sql_files(directory):\n",
    "    sql_files = []\n",
    "    for file in os.listdir(directory):\n",
    "        if file.endswith(\".sql\"):\n",
    "            file_path = os.path.join(directory, file)\n",
    "            with open(file_path, \"r\") as f:\n",
    "                sql_files.append(f.read())\n",
    "    return sql_files"
   ]
  },
  {
   "cell_type": "code",
   "execution_count": null,
   "metadata": {},
   "outputs": [],
   "source": [
    "import time\n",
    "\n",
    "class Query:\n",
    "    def __init__(self, query_text, dependencies=None):\n",
    "        self.query_text = query_text\n",
    "        self.dependencies = dependencies if dependencies else []\n",
    "\n",
    "    def add_dependency(self, dependency):\n",
    "        self.dependencies.append(dependency)\n",
    "\n",
    "    def performance_measure(self, connector):\n",
    "\n",
    "        start_time = time.time()\n",
    "\n",
    "        # Execute the query using the SQL connector\n",
    "        connector.execute(self.query_text)\n",
    "\n",
    "        end_time = time.time()\n",
    "        execution_time = end_time - start_time\n",
    "\n",
    "        return execution_time"
   ]
  },
  {
   "cell_type": "code",
   "execution_count": null,
   "metadata": {},
   "outputs": [],
   "source": [
    "# Specify the directory containing the .sql files\n",
    "directory = \"path/to/sql/files\"\n",
    "\n",
    "# Read the .sql files and store the contents in a list\n",
    "sql_files = read_sql_files(directory)\n",
    "\n",
    "# Create Query objects for each SQL query\n",
    "queries = []\n",
    "for sql_text in sql_files:\n",
    "    query = Query(sql_text)\n",
    "    queries.append(query)\n",
    "\n",
    "# Print the queries\n",
    "for query in queries:\n",
    "    print(\"Query Text:\", query.query_text)\n",
    "    print(\"Dependencies:\", query.dependencies)\n",
    "    print()"
   ]
  },
  {
   "cell_type": "code",
   "execution_count": null,
   "metadata": {},
   "outputs": [],
   "source": [
    "# Create a Query object for 'query53'\n",
    "query53 = Query('query53')\n",
    "\n",
    "# Pass the query to the connect function\n",
    "connect(query53)\n",
    "\n",
    "# Measure the performance of query53\n",
    "execution_time = query53.performance_measure(connector)\n",
    "\n",
    "# Print the execution time\n",
    "print(\"Execution time for query53:\", execution_time, \"seconds\")"
   ]
  },
  {
   "cell_type": "markdown",
   "metadata": {},
   "source": [
    "SQL Alchemy\n"
   ]
  },
  {
   "cell_type": "code",
   "execution_count": null,
   "metadata": {},
   "outputs": [],
   "source": [
    "from sqlalchemy import create_engine, text\n",
    "import os\n",
    "\n",
    "# Specify the directory containing the .sql files\n",
    "directory = \"path/to/sql/files\"\n",
    "\n",
    "# Read the .sql files and store the contents in a list\n",
    "sql_files = []\n",
    "for file in os.listdir(directory):\n",
    "    if file.endswith(\".sql\"):\n",
    "        file_path = os.path.join(directory, file)\n",
    "        with open(file_path, \"r\") as f:\n",
    "            sql_files.append(f.read())\n",
    "\n",
    "# Create a SQLAlchemy engine\n",
    "engine = create_engine(\"your_database_connection_string\")\n",
    "\n",
    "# Execute the SQL queries\n",
    "for sql_text in sql_files:\n",
    "    query = text(sql_text)\n",
    "    result = engine.execute(query)\n",
    "    # Process the query result as needed\n",
    "    for row in result:\n",
    "        print(row)\n",
    "\n",
    "# Close the SQLAlchemy engine\n",
    "engine.dispose()"
   ]
  }
 ],
 "metadata": {
  "kernelspec": {
   "display_name": "base",
   "language": "python",
   "name": "python3"
  },
  "language_info": {
   "name": "python",
   "version": "3.10.9"
  },
  "orig_nbformat": 4
 },
 "nbformat": 4,
 "nbformat_minor": 2
}
